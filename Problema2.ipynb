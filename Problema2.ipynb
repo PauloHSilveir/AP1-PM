{
  "nbformat": 4,
  "nbformat_minor": 0,
  "metadata": {
    "colab": {
      "provenance": []
    },
    "kernelspec": {
      "name": "python3",
      "display_name": "Python 3"
    },
    "language_info": {
      "name": "python"
    }
  },
  "cells": [
    {
      "cell_type": "markdown",
      "source": [
        "# GCC118 - Programação Matemática  \n",
        "## Universidade Federal de Lavras  \n",
        "\n",
        "---\n",
        "\n",
        "## Problema 2  \n",
        "\n",
        "### Alunos:  \n",
        "- **Gabriel Jardim de Souza** - 202310530  \n",
        "- **Paulo Henrique Silveira dos Anjos** - 202310533\n"
      ],
      "metadata": {
        "id": "Fpg5DJnpo0T5"
      }
    },
    {
      "cell_type": "markdown",
      "source": [
        "## Enunciado:\n",
        "\n",
        "Uma certa fábrica de camisetas deseja aproveitar as finais de um campeonato de futebol para vender camisetas dos times envolvidos. Os jogos vão durar quatro semanas. O custo de produção de cada camiseta é de 2,00 reais nas duas primeiras semanas e 2,50 reais nas duas últimas, quando a concorrência demandar por material no mercado. A demanda semanal de camisetas será de 5.000, 10.000, 30.000 e 60.000. A capacidade máxima de produção da empresa é de 25.000 camisetas semanalmente. Na primeira e na segunda semanas, a empresa poderá contratar horas extras de serviço e fabricar mais 10.000 camisetas em cada semana. Nesse caso, o custo de produção sobe para 2,80 reais. O excesso de produção pode ser estocado a um custo de R$ 0,20 por unidade por semana. Formule um modelo que minimize os custos.\n",
        "\n",
        "---\n",
        "\n",
        "### Objetivo\n",
        "\n",
        "Formule um modelo que **minimize os custos**."
      ],
      "metadata": {
        "id": "D-KtNIKkpE5Y"
      }
    },
    {
      "cell_type": "markdown",
      "source": [
        "## Instalação da biblioteca PuLP"
      ],
      "metadata": {
        "id": "8JtQeGNYyzeU"
      }
    },
    {
      "cell_type": "code",
      "source": [
        "!pip install pulp\n",
        "from pulp import LpProblem, LpVariable, LpMinimize, lpSum, LpStatus"
      ],
      "metadata": {
        "colab": {
          "base_uri": "https://localhost:8080/"
        },
        "id": "7o4eI2Egy0KG",
        "outputId": "bc101957-25ef-416a-d097-6d9933d98bf0"
      },
      "execution_count": 4,
      "outputs": [
        {
          "output_type": "stream",
          "name": "stdout",
          "text": [
            "Requirement already satisfied: pulp in /usr/local/lib/python3.12/dist-packages (3.3.0)\n"
          ]
        }
      ]
    },
    {
      "cell_type": "markdown",
      "source": [
        "## Declaração dos parâmetros\n",
        "\n",
        "* $T$: conjunto de semanas do planejamento (0, 1, 2, 3).\n",
        "\n",
        "* $custo\\_normal$: lista com o custo de produção normal (R$) em cada semana.\n",
        "\n",
        "* $demanda\\_normal$: lista com a demanda de camisetas (unidades) em cada semana.\n",
        "\n",
        "* $demanda\\_extra$: lista com a capacidade máxima de produção extra (unidades) em cada semana.\n",
        "\n",
        "* $custo\\_extra$: lista com o custo de produção extra (R$) em cada semana.\n",
        "\n",
        "* $custo\\_estoque$: lista com o custo de estocagem por unidade de camiseta estocada (R$) em cada semana.\n"
      ],
      "metadata": {
        "id": "JPM6wN_Fy7e4"
      }
    },
    {
      "cell_type": "code",
      "source": [
        "custo_normal = [2.0, 2.0, 2.5, 2.5]\n",
        "\n",
        "demanda_normal = [5000, 10000, 30000, 60000]\n",
        "\n",
        "demanda_extra = [10000, 10000, 0, 0]\n",
        "\n",
        "custo_extra = [2.80, 2.80, 0, 0]\n",
        "\n",
        "custo_estoque = [0.2, 0.2, 0.2, 0.2]\n",
        "\n",
        "T = range(4)"
      ],
      "metadata": {
        "id": "YEFpL6nbzFk6"
      },
      "execution_count": 5,
      "outputs": []
    },
    {
      "cell_type": "markdown",
      "source": [
        "## Declaração do objeto que representa o modelo matemático"
      ],
      "metadata": {
        "id": "SCfMTnHm0Np_"
      }
    },
    {
      "cell_type": "code",
      "source": [
        "modelo = LpProblem(\"Venda_Camisetas\", LpMinimize)"
      ],
      "metadata": {
        "id": "uFXecc__0QGI"
      },
      "execution_count": 6,
      "outputs": []
    },
    {
      "cell_type": "markdown",
      "source": [
        "## Variáveis de decisão\n",
        "\n",
        "* $x_t$: quantidade de camisetas produzidas em regime normal na semana $t$, com $t \\in T$, $x_t \\geq 0$.\n",
        "\n",
        "* $y_t$: quantidade de camisetas produzidas em regime de horas extras na semana $t$, com $t \\in T$, $y_t \\geq 0$.\n",
        "\n",
        "* $e_t$: quantidade de camisetas em estoque ao final da semana $t$, com $t \\in T$, $e_t \\geq 0$.\n"
      ],
      "metadata": {
        "id": "Wt_3S3iB0St4"
      }
    },
    {
      "cell_type": "code",
      "source": [
        "x = LpVariable.dicts('producao_normal', T, lowBound=0)\n",
        "e = LpVariable.dicts('estoque', T, lowBound=0)\n",
        "y = LpVariable.dicts(\"producao_extra\", T, lowBound=0)"
      ],
      "metadata": {
        "id": "mwf0d8ZE0r87"
      },
      "execution_count": 7,
      "outputs": []
    },
    {
      "cell_type": "markdown",
      "source": [
        "## Função Objetivo\n",
        "\n",
        "* Minimização do custo total:  \n",
        "\n",
        "$\\min \\sum_{t \\in T} \\Big( custo\\_normal[t] \\cdot x_t \\;+\\; custo\\_extra[t] \\cdot y_t \\;+\\; custo\\_estoque[t] \\cdot e_t \\Big)$.\n",
        "\n"
      ],
      "metadata": {
        "id": "3MXYQTc00tEm"
      }
    },
    {
      "cell_type": "code",
      "source": [
        "modelo += lpSum(custo_normal[t] * x[t] +\n",
        "                custo_extra[t]*y[t] +\n",
        "                custo_estoque[t]*e[t] for t in T)"
      ],
      "metadata": {
        "id": "-AkMRLmE0vhT"
      },
      "execution_count": 8,
      "outputs": []
    },
    {
      "cell_type": "markdown",
      "source": [
        "## Restrições\n",
        "\n",
        "* **Capacidade normal de produção (por semana):**  \n",
        "$x_t \\leq 25\\,000 \\quad \\forall t \\in T$\n",
        "\n",
        "* **Capacidade de produção extra:**  \n",
        "$y_t \\leq 10\\,000 \\quad \\text{para } t = 0,1$  \n",
        "$y_t = 0 \\quad \\text{para } t = 2,3$\n",
        "\n",
        "* **Balanço de estoque:**  \n",
        "\n",
        "  Para a primeira semana (\\(t=0\\)):  \n",
        "  $x_0 + y_0 - d_0 = e_0$\n",
        "  \n",
        "  Para as semanas seguintes (\\(t = 1,2,3\\)):  \n",
        "  $e_{t-1} + x_t + y_t - d_t = e_t$\n",
        "\n",
        "* **Não-negatividade:**  \n",
        "$x_t \\geq 0,\\; y_t \\geq 0,\\; e_t \\geq 0 \\quad \\forall t \\in T$"
      ],
      "metadata": {
        "id": "qaV1nM5l30ys"
      }
    },
    {
      "cell_type": "code",
      "source": [
        "for t in T:\n",
        "    #capacidade normal\n",
        "    modelo += x[t] <= 25000\n",
        "\n",
        "    #capacidade extra semanas 1 e 2 (0 e 1 no array)\n",
        "    if t in [0,1]:\n",
        "        modelo += y[t] <= demanda_extra[t]\n",
        "    else:\n",
        "        modelo += y[t] == demanda_extra[t]\n",
        "\n",
        "# Balanço de estoque\n",
        "for t in T:\n",
        "    if t == 0:\n",
        "        modelo += x[t] + y[t] - demanda_normal[t] == e[t]\n",
        "    else:\n",
        "        modelo += e[t-1] + x[t] + y[t] - demanda_normal[t] == e[t]"
      ],
      "metadata": {
        "id": "h4dUzXmo4slv"
      },
      "execution_count": 9,
      "outputs": []
    },
    {
      "cell_type": "markdown",
      "source": [
        "## Resolvendo o problema"
      ],
      "metadata": {
        "id": "v9qPJCcr5GZ5"
      }
    },
    {
      "cell_type": "code",
      "source": [
        "status = modelo.solve()"
      ],
      "metadata": {
        "id": "fXf5wv1N5H5t"
      },
      "execution_count": 10,
      "outputs": []
    },
    {
      "cell_type": "markdown",
      "source": [
        "## Imprimindo as soluções do problema"
      ],
      "metadata": {
        "id": "V-xslXcf5OAr"
      }
    },
    {
      "cell_type": "code",
      "source": [
        "status = modelo.solve()\n",
        "print('status: ', LpStatus[status])\n",
        "print('funcao objetivo: ', modelo.objective.value())\n",
        "print('solucoes')\n",
        "for t in T:\n",
        "    print(f\"Semana {t+1}: Normal={x[t].value()}, Extra={y[t].value()}, Estoque final={e[t].value()}\")"
      ],
      "metadata": {
        "colab": {
          "base_uri": "https://localhost:8080/"
        },
        "id": "PIj-p7l_5QJ1",
        "outputId": "7319c677-c027-41b4-fd91-f63d6ed621c5"
      },
      "execution_count": 11,
      "outputs": [
        {
          "output_type": "stream",
          "name": "stdout",
          "text": [
            "status:  Optimal\n",
            "funcao objetivo:  258000.0\n",
            "solucoes\n",
            "Semana 1: Normal=25000.0, Extra=0.0, Estoque final=20000.0\n",
            "Semana 2: Normal=25000.0, Extra=5000.0, Estoque final=40000.0\n",
            "Semana 3: Normal=25000.0, Extra=0.0, Estoque final=35000.0\n",
            "Semana 4: Normal=25000.0, Extra=0.0, Estoque final=0.0\n"
          ]
        }
      ]
    }
  ]
}