{
  "nbformat": 4,
  "nbformat_minor": 0,
  "metadata": {
    "colab": {
      "provenance": []
    },
    "kernelspec": {
      "name": "python3",
      "display_name": "Python 3"
    },
    "language_info": {
      "name": "python"
    }
  },
  "cells": [
    {
      "cell_type": "markdown",
      "source": [
        "# GCC118 - Programação Matemática  \n",
        "## Universidade Federal de Lavras  \n",
        "\n",
        "---\n",
        "\n",
        "## Problema 1  \n",
        "\n",
        "### Alunos:  \n",
        "- **Gabriel Jardim de Souza** - 202310530  \n",
        "- **Paulo Henrique Silveira dos Anjos** - 202310533\n"
      ],
      "metadata": {
        "id": "18g0e_qlXdmj"
      }
    },
    {
      "cell_type": "markdown",
      "source": [
        "## Enunciado:\n",
        "\n",
        "A Empresa de Viação Aérea Brasileira está estudando a compra de três tipos de aviões:  \n",
        "- Boeing 717 para as pontes aéreas a curta distância,  \n",
        "- Boeing 737-500 para vôos domésticos e internacionais de média distância,  \n",
        "- MD-11 para vôos internacionais de longa distância.  \n",
        "\n",
        "Em um estudo preliminar, considerou-se que a capacidade máxima dos aviões a serem comprados será sempre preenchida para efeito de planejamento. Os dados de planejamento constam na Tabela 1.  \n",
        "\n",
        "---\n",
        "\n",
        "\n",
        "**Tabela 1: Informações sobre os aviões**\n",
        "\n",
        "\n",
        "| Avião                 | Custo (Milhões) | Receita (Milhões) | Pilotos aptos |\n",
        "|-----------------------|-----------------|-------------------|---------------|\n",
        "| **Boeing 717**        | 5,1             | 330               | 30            |\n",
        "| **Boeing 737-500**    | 3,6             | 300               | 20            |\n",
        "| **MD-11**             | 6,8             | 420               | 10            |\n",
        "\n",
        "\n",
        "---\n",
        "\n",
        "A verba disponível para as compras é de **220 milhões de dólares**. Os pilotos de MD-11 podem pilotar todos os aviões da empresa, mas os demais pilotos só podem ser escalados às aeronaves a que foram habilitados. Cada aeronave necessita de **dois pilotos** para operar. As oficinas de manutenção podem suportar até **40 Boeings 717**. Um Boeing 737-500 equivale, em esforço de manutenção, a **3/4**, e um MD-11 a **5/3**, quando referidos ao Boeing 717.   \n",
        "\n",
        "---\n",
        "\n",
        "### Objetivo\n",
        "\n",
        "Apresente um modelo que otimize as aquisições de aviões nesta empresa, **maximizando as receitas**.\n"
      ],
      "metadata": {
        "id": "p69MUVYmYu1K"
      }
    },
    {
      "cell_type": "markdown",
      "source": [
        "## Instalação da biblioteca PuLP"
      ],
      "metadata": {
        "id": "3inUWDEpflLv"
      }
    },
    {
      "cell_type": "code",
      "execution_count": null,
      "metadata": {
        "id": "4O-RtOj9au6i",
        "colab": {
          "base_uri": "https://localhost:8080/"
        },
        "outputId": "72b4cf91-58ad-4afb-b569-418611d57598"
      },
      "outputs": [
        {
          "output_type": "stream",
          "name": "stdout",
          "text": [
            "Requirement already satisfied: pulp in /usr/local/lib/python3.12/dist-packages (3.3.0)\n"
          ]
        }
      ],
      "source": [
        "!pip install pulp\n",
        "import pulp"
      ]
    },
    {
      "cell_type": "markdown",
      "source": [
        "## Declaração dos parâmetros\n",
        "\n",
        "* $aviao$: conjunto de tipos de aviões disponíveis (0, 1, 2).  \n",
        "* $custo$: lista com o custo de aquisição de cada tipo de avião.  \n",
        "* $receita$: lista com a receita obtida por cada tipo de avião.  \n",
        "* $pilotos\\_aptos$: lista com o número de pilotos disponíveis para cada tipo de avião.  \n",
        "* $pesos\\_de\\_manutencao$: lista com o peso relativo de manutenção de cada tipo de avião.  \n",
        "\n"
      ],
      "metadata": {
        "id": "mdwNnSIHgGr9"
      }
    },
    {
      "cell_type": "code",
      "source": [
        "aviao = range(3)\n",
        "\n",
        "custo = [5.1, 3.6, 6.8]\n",
        "\n",
        "receita = [330, 300, 420]\n",
        "\n",
        "pilotos_aptos = [30, 20, 10]\n",
        "\n",
        "pesos_de_manutencao = [1, 3/4, 5/3]"
      ],
      "metadata": {
        "id": "RBzotZvsgd2r"
      },
      "execution_count": null,
      "outputs": []
    },
    {
      "cell_type": "markdown",
      "source": [
        "## Declaração do objeto que representa o modelo matemático"
      ],
      "metadata": {
        "id": "vx_jMRubjSC3"
      }
    },
    {
      "cell_type": "code",
      "source": [
        "modelo = pulp.LpProblem('problema1', pulp.LpMaximize)"
      ],
      "metadata": {
        "id": "ui8fclLGjTRN"
      },
      "execution_count": null,
      "outputs": []
    },
    {
      "cell_type": "markdown",
      "source": [
        "## Variáveis de decisão\n",
        "\n",
        "* $avioes\\_adquiridos[i] \\ge 0$: número de aviões do tipo $i$ a serem adquiridos, $i \\in aviao$.  \n",
        "* $pilotos\\_md[i] \\ge 0$: número de pilotos MD-11 alocados para o tipo de avião $i$, $i \\in aviao$.  \n"
      ],
      "metadata": {
        "id": "75czbo7Kjbp1"
      }
    },
    {
      "cell_type": "code",
      "source": [
        "avioes_adquiridos = pulp.LpVariable.dicts('avioes', aviao, lowBound=0, cat='Integer')\n",
        "pilotos_md = pulp.LpVariable.dicts('pilotos_md', aviao, lowBound=0, cat='Integer')"
      ],
      "metadata": {
        "id": "I8HPLj-5j8hI"
      },
      "execution_count": null,
      "outputs": []
    },
    {
      "cell_type": "markdown",
      "source": [
        "## Função objetivo\n",
        "\n",
        "* Maximização da receita total: $\\max \\sum_{i \\in aviao} receita[i] \\cdot avioes\\_adquiridos[i]$.  \n"
      ],
      "metadata": {
        "id": "vbtwgwSlj9St"
      }
    },
    {
      "cell_type": "code",
      "source": [
        "modelo += pulp.lpSum(receita[i] * avioes_adquiridos[i] for i in aviao)"
      ],
      "metadata": {
        "id": "vvItlg2oj9j5"
      },
      "execution_count": null,
      "outputs": []
    },
    {
      "cell_type": "markdown",
      "source": [
        "## Restrições"
      ],
      "metadata": {
        "id": "Ebqsdq1zkiHA"
      }
    },
    {
      "cell_type": "markdown",
      "source": [
        "* Restrição de orçamento: $\\sum_{i \\in aviao} custo[i] \\cdot avioes\\_adquiridos[i] \\le 220$.  "
      ],
      "metadata": {
        "id": "gABybDabkjqx"
      }
    },
    {
      "cell_type": "code",
      "source": [
        "modelo += pulp.lpSum(custo[i]*avioes_adquiridos[i] for i in aviao) <= 220"
      ],
      "metadata": {
        "id": "pI-6lp1hlGKn"
      },
      "execution_count": null,
      "outputs": []
    },
    {
      "cell_type": "markdown",
      "source": [
        "* Restrição de pilotos para o avião do tipo **Boeing 717**: $2 \\cdot avioes\\_adquiridos[0] \\le pilotos\\_aptos[0] + pilotos\\_md[0]$.  \n"
      ],
      "metadata": {
        "id": "2J7dd_jylLV6"
      }
    },
    {
      "cell_type": "code",
      "source": [
        "modelo += (2*avioes_adquiridos[0]) <= pilotos_aptos[0] + pilotos_md[0]"
      ],
      "metadata": {
        "id": "MDUSQdM2mENW"
      },
      "execution_count": null,
      "outputs": []
    },
    {
      "cell_type": "markdown",
      "source": [
        "* Restrição de pilotos para o avião do tipo **Boeing 737-500**: $2 \\cdot avioes\\_adquiridos[1] \\le pilotos\\_aptos[1] + pilotos\\_md[1]$.  "
      ],
      "metadata": {
        "id": "w550LCEZmAcZ"
      }
    },
    {
      "cell_type": "code",
      "source": [
        "modelo += (2*avioes_adquiridos[1]) <= pilotos_aptos[1] + pilotos_md[1]"
      ],
      "metadata": {
        "id": "-VYs6siSmGHa"
      },
      "execution_count": null,
      "outputs": []
    },
    {
      "cell_type": "markdown",
      "source": [
        "* Restrição de pilotos para o avião do tipo **MD-11**: $2 \\cdot avioes\\_adquiridos[2] \\le pilotos\\_aptos[2] - pilotos\\_md[0] - pilotos\\_md[1]$.  "
      ],
      "metadata": {
        "id": "Ka522jKxmB7f"
      }
    },
    {
      "cell_type": "code",
      "source": [
        "modelo += (2*avioes_adquiridos[2]) <= pilotos_aptos[2] - pilotos_md[0] - pilotos_md[1]"
      ],
      "metadata": {
        "id": "JkTfo2_fmHwf"
      },
      "execution_count": null,
      "outputs": []
    },
    {
      "cell_type": "markdown",
      "source": [
        "* Restrição de capacidade das oficinas de manutenção: $\\sum_{i \\in aviao} pesos\\_de\\_manutencao[i] \\cdot avioes\\_adquiridos[i] \\le 40$.  "
      ],
      "metadata": {
        "id": "HU4G2XqklXqU"
      }
    },
    {
      "cell_type": "code",
      "source": [
        "modelo += pulp.lpSum(pesos_de_manutencao[i]*avioes_adquiridos[i] for i in aviao) <= 40"
      ],
      "metadata": {
        "id": "YJHY1VSzlwDD"
      },
      "execution_count": null,
      "outputs": []
    },
    {
      "cell_type": "markdown",
      "source": [
        "### Resolvendo o problema"
      ],
      "metadata": {
        "id": "WPLym93Hlgjw"
      }
    },
    {
      "cell_type": "code",
      "source": [
        "status = modelo.solve()"
      ],
      "metadata": {
        "id": "qUHRfxGZlz4-"
      },
      "execution_count": null,
      "outputs": []
    },
    {
      "cell_type": "markdown",
      "source": [
        "## Imprimindo as soluções do problema"
      ],
      "metadata": {
        "id": "5TLAAJwiliW2"
      }
    },
    {
      "cell_type": "code",
      "source": [
        "descricao_avioes = {\n",
        "    0: \"Boeing 717\",\n",
        "    1: \"Boeing 737-500\",\n",
        "    2: \"MD-11\"\n",
        "}\n",
        "\n",
        "print('STATUS:', pulp.LpStatus[status])\n",
        "print('FUNÇÃO OBJETIVO: $', modelo.objective.value(), 'milhões')\n",
        "print('\\nSOLUÇÕES:')\n",
        "\n",
        "for a in aviao:\n",
        "    print(f\"Tipo: {descricao_avioes[a]}  Aviões adquiridos: {avioes_adquiridos[a].value()}\")\n"
      ],
      "metadata": {
        "colab": {
          "base_uri": "https://localhost:8080/"
        },
        "id": "hPBeOfwDl2r_",
        "outputId": "33cef62a-e19f-4bbf-c6ee-1f01c92c216b"
      },
      "execution_count": null,
      "outputs": [
        {
          "output_type": "stream",
          "name": "stdout",
          "text": [
            "STATUS: Optimal\n",
            "FUNÇÃO OBJETIVO: $ 10050.0 milhões\n",
            "\n",
            "SOLUÇÕES:\n",
            "Tipo: Boeing 717  Aviões adquiridos: 15.0\n",
            "Tipo: Boeing 737-500  Aviões adquiridos: 10.0\n",
            "Tipo: MD-11  Aviões adquiridos: 5.0\n"
          ]
        }
      ]
    }
  ]
}