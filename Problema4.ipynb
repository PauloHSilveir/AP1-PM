{
  "cells": [
    {
      "cell_type": "markdown",
      "metadata": {
        "id": "m91aXy-17aGU"
      },
      "source": [
        "# GCC118 - Programação Matemática  \n",
        "## Universidade Federal de Lavras  \n",
        "\n",
        "---\n",
        "\n",
        "## Problema 1  \n",
        "\n",
        "### Alunos:  \n",
        "- **Gabriel Jardim de Souza** - 202310530  \n",
        "- **Paulo Henrique Silveira dos Anjos** - 202310533\n"
      ]
    },
    {
      "cell_type": "markdown",
      "metadata": {
        "id": "0zRHbqcH7fri"
      },
      "source": [
        "## Enunciado:\n",
        "\n",
        "Uma nutricionista deseja formular uma dieta de emagrecimento, de forma a atender às necessidades mínimas de nutrientes de um indivíduo, respeitando limites calóricos e de custo, e controlando o excesso de alguns nutrientes específicos.\n",
        "\n",
        "Você dispõe de uma base de dados contendo 30 alimentos, cada um com informações de:\n",
        "\n",
        "- Preço por porção (R$)\n",
        "- Valor energético (kcal)\n",
        "- Proteína (g)\n",
        "- Gordura (g)\n",
        "- Carboidrato (g)\n",
        "- Cálcio (mg)\n",
        "- Ferro (mg)\n",
        "- Vitamina C (mg)\n",
        "- Sódio (mg)\n",
        "\n",
        "As informações estão armazenadas em um arquivo JSON no seguinte formato simplificado:\n",
        "\n",
        "```json\n",
        "{\n",
        "  \"params\": {\n",
        "    \"Kmax\": 1600,\n",
        "    \"Cmax\": 20,\n",
        "    \"min_prot\": 60,\n",
        "    \"min_carb\": 130,\n",
        "    \"min_cal\": 1000,\n",
        "    \"min_fe\": 8,\n",
        "    \"min_vitc\": 75,\n",
        "    \"fat_max\": 50,\n",
        "    \"sod_max\": 2300\n",
        "  },\n",
        "  \"alimentos\": [\n",
        "    { \"id\": 1, \"nome\": \"Arroz integral\", ... },\n",
        "    { \"id\": 2, \"nome\": \"Feijão carioca\", ... },\n",
        "    ...\n",
        "    { \"id\": 30, \"nome\": \"Sardinha enlatada\", ... }\n",
        "  ]\n",
        "}\n",
        "```\n",
        "\n",
        "### Regras da Dieta\n",
        "\n",
        "* A dieta diária deve conter no máximo: **1600 kcal R$ 20,00**\n",
        "\n",
        "* Deve-se garantir um consumo mínimo de:\n",
        "\n",
        "  - 60 g de proteína\n",
        "\n",
        "  - 130 g de carboidratos\n",
        "\n",
        "  - 1000 mg de cálcio\n",
        "\n",
        "  - 8 mg de ferro\n",
        "\n",
        "  - 75 mg de vitamina C\n",
        "\n",
        "* O consumo de gordura deve ser no máximo 50 g/dia\n",
        "\n",
        "* O consumo de sódio deve ser no máximo 2300 mg/dia\n",
        "\n",
        "### Objetivo\n",
        "**Minimizar a quantidade de nutrientes que ultrapassam os limites máximos permitidos.**"
      ]
    },
    {
      "cell_type": "markdown",
      "metadata": {
        "id": "-sGcUzEp9SQe"
      },
      "source": [
        "## Instalação da biblioteca PuLP"
      ]
    },
    {
      "cell_type": "code",
      "execution_count": 67,
      "metadata": {
        "colab": {
          "base_uri": "https://localhost:8080/"
        },
        "id": "NEjmh_HQ9TA6",
        "outputId": "d01fbe14-31fa-4cd5-ebca-0b59072181e6"
      },
      "outputs": [
        {
          "name": "stdout",
          "output_type": "stream",
          "text": [
            "Requirement already satisfied: pulp in c:\\users\\paulo\\appdata\\local\\programs\\python\\python312\\lib\\site-packages (3.3.0)\n"
          ]
        },
        {
          "name": "stderr",
          "output_type": "stream",
          "text": [
            "\n",
            "[notice] A new release of pip is available: 25.0 -> 25.2\n",
            "[notice] To update, run: python.exe -m pip install --upgrade pip\n"
          ]
        }
      ],
      "source": [
        "!pip install pulp\n",
        "import json\n",
        "from pulp import LpProblem, LpVariable, LpMinimize, lpSum, LpStatus"
      ]
    },
    {
      "cell_type": "markdown",
      "metadata": {
        "id": "WWMDStE_9YXt"
      },
      "source": [
        "## Carregando dados do JSON\n"
      ]
    },
    {
      "cell_type": "code",
      "execution_count": 68,
      "metadata": {
        "id": "4X90uJx49e98"
      },
      "outputs": [],
      "source": [
        "with open(\"dieta.json\", \"r\") as f:\n",
        "    dados = json.load(f)\n",
        "\n",
        "params = dados[\"params\"]\n",
        "alimentos = dados[\"alimentos\"]"
      ]
    },
    {
      "cell_type": "markdown",
      "metadata": {
        "id": "EZJqkGqo96Pk"
      },
      "source": [
        "## Declaração dos parâmetros\n",
        "\n",
        "* $kcal\\_maximo$: valor máximo de calorias diárias (kcal).\n",
        "\n",
        "* $custo\\_maximo$: valor máximo de custo diário (R$).\n",
        "\n",
        "* $minimo\\_proteina$: consumo mínimo diário de proteína (g).\n",
        "\n",
        "* $minimo\\_carboidrato$: consumo mínimo diário de carboidratos (g).\n",
        "\n",
        "* $minimo\\_calcio$: consumo mínimo diário de cálcio (mg).\n",
        "\n",
        "* $minimo\\_ferro$: consumo mínimo diário de ferro (mg).\n",
        "\n",
        "* $minimo\\_vitaminaC$: consumo mínimo diário de vitamina C (mg).\n",
        "\n",
        "* $gordura\\_maximo$: consumo máximo diário de gordura (g).\n",
        "\n",
        "* $sodio\\_maximo$: consumo máximo diário de sódio (mg).\n",
        "\n",
        "* $N$: número de alimentos disponíveis.\n",
        "\n",
        "* $preco$: vetor com o preço de cada alimento (R$).\n",
        "\n",
        "* $kcal$: vetor com o valor energético de cada alimento (kcal).\n",
        "\n",
        "* $proteina$: vetor com a quantidade de proteína de cada alimento (g).\n",
        "\n",
        "* $gordura$: vetor com a quantidade de gordura de cada alimento (g).\n",
        "\n",
        "* $carboidrato$: vetor com a quantidade de carboidrato de cada alimento (g).\n",
        "\n",
        "* $calcio$: vetor com a quantidade de cálcio de cada alimento (mg).\n",
        "\n",
        "* $ferro$: vetor com a quantidade de ferro de cada alimento (mg).\n",
        "\n",
        "* $vitaminaC$: vetor com a quantidade de vitamina C de cada alimento (mg).\n",
        "\n",
        "* $sodio$: vetor com a quantidade de sódio de cada alimento (mg).\n"
      ]
    },
    {
      "cell_type": "code",
      "execution_count": 69,
      "metadata": {
        "id": "f_xgCKTI-7iT"
      },
      "outputs": [],
      "source": [
        "kcal_maximo = params[\"Kmax\"]\n",
        "custo_maximo = params[\"Cmax\"]\n",
        "minimo_proteina = params[\"min_prot\"]\n",
        "minimo_carboidrato = params[\"min_carb\"]\n",
        "minimo_calcio = params[\"min_cal\"]\n",
        "minimo_ferro = params[\"min_fe\"]\n",
        "minimo_vitaminaC = params[\"min_vitc\"]\n",
        "gordura_maximo = params[\"fat_max\"]\n",
        "sodio_maximo = params[\"sod_max\"]\n",
        "\n",
        "N = len(alimentos)\n",
        "\n",
        "## Extrai vetor de um nutriente\n",
        "def vec(key):\n",
        "    return [alimento.get(key, 0.0) for alimento in alimentos]\n",
        "\n",
        "preco = vec(\"preco\")\n",
        "kcal = vec(\"kcal\")\n",
        "proteina = vec(\"proteina\")\n",
        "gordura = vec(\"gordura\")\n",
        "carboidrato = vec(\"carboidrato\")\n",
        "calcio = vec(\"calcio\")\n",
        "ferro = vec(\"ferro\")\n",
        "vitaminaC = vec(\"vitaminaC\")\n",
        "sodio = vec(\"sodio\")"
      ]
    },
    {
      "cell_type": "markdown",
      "metadata": {
        "id": "QGbHsu0g_S-g"
      },
      "source": [
        "## Declaração do objeto que representa o modelo matemático"
      ]
    },
    {
      "cell_type": "code",
      "execution_count": 70,
      "metadata": {
        "id": "YajwRL5f_THl"
      },
      "outputs": [],
      "source": [
        "modelo = LpProblem(\"DietaEmagrecimento\", LpMinimize)"
      ]
    },
    {
      "cell_type": "markdown",
      "metadata": {
        "id": "wC69ALOJ_yZO"
      },
      "source": [
        "## Variáveis de decisão\n",
        "\n",
        "* $x_i$: número de porções do alimento $i$, com $i = 1, 2, ..., N$, $x_i \\geq 0$ e inteiro.\n",
        "\n",
        "* $excesso\\_gordura$: quantidade de gordura que excede o limite máximo permitido na dieta diária, $excesso\\_gordura \\geq 0$.\n",
        "\n",
        "* $excesso\\_sodio$: quantidade de sódio que excede o limite máximo permitido na dieta diária, $excesso\\_sodio \\geq 0$."
      ]
    },
    {
      "cell_type": "code",
      "execution_count": 71,
      "metadata": {
        "id": "KYvcCx6a_yhO"
      },
      "outputs": [],
      "source": [
        "x = [LpVariable(f\"x_{i+1}\", lowBound=0, cat='Integer') for i in range(N)]\n",
        "\n",
        "excesso_gordura = LpVariable(\"excesso_gordura\", lowBound=0)\n",
        "excesso_sodio  = LpVariable(\"excesso_sodio\", lowBound=0)"
      ]
    },
    {
      "cell_type": "markdown",
      "metadata": {
        "id": "LjdgDMPS_yob"
      },
      "source": [
        "## Função objetivo\n",
        "\n",
        "Minimizar a soma dos excessos de nutrientes:\n",
        "\n",
        "$\\text{min } Z = excesso\\_gordura + excesso\\_sodio$\n"
      ]
    },
    {
      "cell_type": "code",
      "execution_count": 72,
      "metadata": {
        "id": "lkuWxhg7_yyJ"
      },
      "outputs": [],
      "source": [
        "modelo += excesso_gordura + excesso_sodio"
      ]
    },
    {
      "cell_type": "markdown",
      "metadata": {
        "id": "WxSR-SPBAOsN"
      },
      "source": [
        "## Restrições\n",
        "\n",
        "### Restrições de limite máximo\n",
        "\n",
        "* Energia (kcal):\n",
        "\n",
        "  $\\sum_{i=1}^{N} kcal_i \\cdot x_i \\leq kcal\\_maximo$\n",
        "\n",
        "* Custo (R$):\n",
        "\n",
        "  $\\sum_{i=1}^{N} preco_i \\cdot x_i \\leq custo\\_maximo$\n",
        "\n",
        "* Gordura (g), com variável de excesso:\n",
        "\n",
        "  $\\sum_{i=1}^{N} gordura_i \\cdot x_i \\leq gordura\\_maximo + excesso\\_gordura$\n",
        "\n",
        "* Sódio (mg), com variável de excesso:\n",
        "\n",
        "  $\\sum_{i=1}^{N} sodio_i \\cdot x_i \\leq sodio\\_maximo + excesso\\_sodio$"
      ]
    },
    {
      "cell_type": "code",
      "execution_count": 73,
      "metadata": {
        "id": "X_TTAp8yAwj5"
      },
      "outputs": [],
      "source": [
        "modelo += lpSum(kcal[i] * x[i] for i in range(N)) <= kcal_maximo\n",
        "\n",
        "modelo += lpSum(preco[i] * x[i] for i in range(N)) <= custo_maximo\n",
        "\n",
        "modelo += lpSum(gordura[i] * x[i] for i in range(N)) <= gordura_maximo + excesso_gordura\n",
        "\n",
        "modelo += lpSum(sodio[i]  * x[i] for i in range(N)) <= sodio_maximo + excesso_sodio"
      ]
    },
    {
      "cell_type": "markdown",
      "metadata": {
        "id": "FLubd5ayAwyT"
      },
      "source": [
        "### Restrições de consumo mínimo\n",
        "\n",
        "* Proteína (g):\n",
        "\n",
        "  $\\sum_{i=1}^{N} proteina_i \\cdot x_i \\geq minimo\\_proteina$\n",
        "\n",
        "* Carboidrato (g):\n",
        "\n",
        "  $\\sum_{i=1}^{N} carboidrato_i \\cdot x_i \\geq minimo\\_carboidrato$\n",
        "\n",
        "* Cálcio (mg):\n",
        "\n",
        "  $\\sum_{i=1}^{N} calcio_i \\cdot x_i \\geq minimo\\_calcio$\n",
        "\n",
        "* Ferro (mg):\n",
        "\n",
        "  $\\sum_{i=1}^{N} ferro_i \\cdot x_i \\geq minimo\\_ferro$\n",
        "\n",
        "* Vitamina C (mg):\n",
        "\n",
        "  $\\sum_{i=1}^{N} vitaminaC_i \\cdot x_i \\geq minimo\\_vitaminaC$"
      ]
    },
    {
      "cell_type": "code",
      "execution_count": 74,
      "metadata": {
        "id": "-xheonb7A6J5"
      },
      "outputs": [],
      "source": [
        "modelo += lpSum(proteina[i] * x[i] for i in range(N)) >= minimo_proteina\n",
        "\n",
        "modelo += lpSum(carboidrato[i] * x[i] for i in range(N)) >= minimo_carboidrato\n",
        "\n",
        "modelo += lpSum(calcio[i] * x[i] for i in range(N)) >= minimo_calcio\n",
        "\n",
        "modelo += lpSum(ferro[i] * x[i] for i in range(N)) >= minimo_ferro\n",
        "\n",
        "modelo += lpSum(vitaminaC[i] * x[i] for i in range(N)) >= minimo_vitaminaC"
      ]
    },
    {
      "cell_type": "markdown",
      "metadata": {
        "id": "UbtjAMYlBHAW"
      },
      "source": [
        "### Resolvendo o modelo"
      ]
    },
    {
      "cell_type": "code",
      "execution_count": 75,
      "metadata": {
        "id": "cJDJx0O8BHHj"
      },
      "outputs": [],
      "source": [
        "status = modelo.solve()"
      ]
    },
    {
      "cell_type": "markdown",
      "metadata": {
        "id": "Oxo3vT1HBL8G"
      },
      "source": [
        "## Imprimindo as soluções do problema"
      ]
    },
    {
      "cell_type": "code",
      "execution_count": 76,
      "metadata": {
        "colab": {
          "base_uri": "https://localhost:8080/"
        },
        "id": "j12BCdcgBMFB",
        "outputId": "732ed760-eecd-418a-c79d-6b9f0809bc03"
      },
      "outputs": [
        {
          "name": "stdout",
          "output_type": "stream",
          "text": [
            "status:  Optimal\n",
            "funcao objetivo:  0.0\n",
            "\n",
            "Excessos (valores):\n",
            "  Excesso gordura (g): 0.0\n",
            "  Excesso sodio (mg): 0.0\n",
            "\n",
            "Dieta recomendada: (porções por alimento):\n",
            "Pão francês: 3.00 porções (50g)\n",
            "Iogurte natural: 3.00 porções (100g)\n",
            "Sardinha enlatada: 2.00 porções (100g)\n",
            "Alface: 2.00 porções (100g)\n",
            "Laranja: 1.00 porções (100g)\n"
          ]
        }
      ],
      "source": [
        "print('status: ', LpStatus[status])\n",
        "print('funcao objetivo: ', modelo.objective.value())\n",
        "\n",
        "print(\"\\nExcessos (valores):\")\n",
        "print(\"  Excesso gordura (g):\", excesso_gordura.value())\n",
        "print(\"  Excesso sodio (mg):\", excesso_sodio.value())\n",
        "\n",
        "print(\"\\nDieta recomendada: (porções por alimento):\")\n",
        "for i in range(N):\n",
        "    if x[i].value() > 1e-5:\n",
        "        print(f\"{alimentos[i]['nome']}: {x[i].varValue:.2f} porções ({alimentos[i]['porcao']})\")"
      ]
    },
    {
      "cell_type": "markdown",
      "metadata": {
        "id": "QmGACJ2JLO7v"
      },
      "source": [
        "**Atenção: o problema da dieta pode possuir múltiplas soluções ótimas, mas não há certeza sobre isso.**"
      ]
    }
  ],
  "metadata": {
    "colab": {
      "provenance": []
    },
    "kernelspec": {
      "display_name": "Python 3",
      "name": "python3"
    },
    "language_info": {
      "codemirror_mode": {
        "name": "ipython",
        "version": 3
      },
      "file_extension": ".py",
      "mimetype": "text/x-python",
      "name": "python",
      "nbconvert_exporter": "python",
      "pygments_lexer": "ipython3",
      "version": "3.12.3"
    }
  },
  "nbformat": 4,
  "nbformat_minor": 0
}
