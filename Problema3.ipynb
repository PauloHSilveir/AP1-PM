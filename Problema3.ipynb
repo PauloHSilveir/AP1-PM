{
  "nbformat": 4,
  "nbformat_minor": 0,
  "metadata": {
    "colab": {
      "provenance": []
    },
    "kernelspec": {
      "name": "python3",
      "display_name": "Python 3"
    },
    "language_info": {
      "name": "python"
    }
  },
  "cells": [
    {
      "cell_type": "markdown",
      "source": [
        "# GCC118 - Programação Matemática  \n",
        "## Universidade Federal de Lavras  \n",
        "\n",
        "---\n",
        "\n",
        "## Problema 3  \n",
        "\n",
        "### Alunos:  \n",
        "- **Gabriel Jardim de Souza** - 202310530  \n",
        "- **Paulo Henrique Silveira dos Anjos** - 202310533\n"
      ],
      "metadata": {
        "id": "h4IepcsMyYLC"
      }
    },
    {
      "cell_type": "markdown",
      "source": [
        "## Enunciado:\n",
        "\n",
        "A cidade de União Paulista enfrenta uma séria carência orçamentária. Em busca de uma solução de longo prazo, a câmara de vereadores da cidade aprova uma melhoria da base da cobrança de impostos que prevê a condenação de uma área habitacional do centro da cidade e sua substituição por um conjunto habitacional moderno.  \n",
        "\n",
        "O projeto envolve duas fases:  \n",
        "1. demolição das casas que estão aquém do padrão para liberar terreno para o novo projeto;  \n",
        "2. construção do novo conjunto urbano. A seguir daremos um resumo da situação.  \n",
        "\n",
        "Um total de **300 casas** aquém do padrão podem ser demolidas. Cada casa ocupa um lote de **0,25 acres**. O custo de demolição de uma casa condenada é de **\\$2.000**. Os tamanhos de lotes para domicílios (unidades) **simples, duplos, triplos e quádruplos** são de **0,18; 0,28; 0,4 e 0,5 acres**, respectivamente. Ruas, espaços abertos e instalações públicas ocupam **15% da área disponível**.  \n",
        "\n",
        "---\n",
        "\n",
        "**Tabela 1: Informações sobre as unidades habitacionais**\n",
        "\n",
        "| Tipo de unidade | Tamanho do lote (acres) | Imposto cobrado por unidade (\\$) | Custo de construção (\\$) |\n",
        "|-----------------|--------------------------|---------------------------------|--------------------------|\n",
        "| **Simples**     | 0,18                     | 1.000                           | 50.000                   |\n",
        "| **Dupla**       | 0,28                     | 1.900                           | 70.000                   |\n",
        "| **Tripla**      | 0,40                     | 2.700                           | 130.000                  |\n",
        "| **Quádrupla**   | 0,50                     | 3.400                           | 160.000                  |\n",
        "\n",
        "---\n",
        "\n",
        "No novo conjunto habitacional:  \n",
        "- As **unidades triplas e quádruplas** representam no mínimo **25% do total**.  \n",
        "- Unidades **simples** devem representar no mínimo **20%** de todas as unidades.  \n",
        "- Unidades **duplas**, no mínimo **10%**.  \n",
        "\n",
        "O **financiamento acordado com um banco local** será de no máximo **$15 milhões**.  \n",
        "\n",
        "---\n",
        "\n",
        "### Objetivo\n",
        "\n",
        "Quantas unidades de cada tipo devem ser construídas para **maximizar a arrecadação de impostos**?  \n"
      ],
      "metadata": {
        "id": "lyqZIz7Xyg1k"
      }
    },
    {
      "cell_type": "markdown",
      "source": [
        "## Instalação da biblioteca PuLP"
      ],
      "metadata": {
        "id": "3Ev0BkRi0ciK"
      }
    },
    {
      "cell_type": "code",
      "execution_count": 1,
      "metadata": {
        "id": "4O-RtOj9au6i",
        "colab": {
          "base_uri": "https://localhost:8080/"
        },
        "outputId": "c605964f-334b-4768-d8bd-1240fd4cfa50"
      },
      "outputs": [
        {
          "output_type": "stream",
          "name": "stdout",
          "text": [
            "Collecting pulp\n",
            "  Downloading pulp-3.3.0-py3-none-any.whl.metadata (8.4 kB)\n",
            "Downloading pulp-3.3.0-py3-none-any.whl (16.4 MB)\n",
            "\u001b[2K   \u001b[90m━━━━━━━━━━━━━━━━━━━━━━━━━━━━━━━━━━━━━━━━\u001b[0m \u001b[32m16.4/16.4 MB\u001b[0m \u001b[31m62.1 MB/s\u001b[0m eta \u001b[36m0:00:00\u001b[0m\n",
            "\u001b[?25hInstalling collected packages: pulp\n",
            "Successfully installed pulp-3.3.0\n"
          ]
        }
      ],
      "source": [
        "!pip install pulp\n",
        "import pulp"
      ]
    },
    {
      "cell_type": "markdown",
      "source": [
        "## Declaração dos parâmetros\n",
        "\n",
        "* $max\\_demolidas$: número máximo de casas que podem ser demolidas (300).  \n",
        "* $acre\\_por\\_casa\\_demolida$: área (em acres) ocupada por cada casa a ser demolida (0,25).  \n",
        "* $fracao\\_rua$: fração da área total destinada a ruas e espaços públicos (0,15).  \n",
        "* $custo\\_por\\_casa\\_demolida$: custo de demolição por casa (\\$2.000).  \n",
        "\n",
        "* $acre\\_lotes$: lista com a área necessária para cada tipo de unidade habitacional:  \n",
        "  - Simples: 0,18 acres  \n",
        "  - Dupla: 0,28 acres  \n",
        "  - Tripla: 0,40 acres  \n",
        "  - Quádrupla: 0,50 acres  \n",
        "\n",
        "* $imposto\\_lotes$: lista com o valor do imposto arrecadado por unidade habitacional:  \n",
        "  - Simples: \\$1.000  \n",
        "  - Dupla: \\$1.900  \n",
        "  - Tripla: \\$2.700  \n",
        "  - Quádrupla: \\$3.400  \n",
        "\n",
        "* $custo\\_construcao$: lista com o custo de construção de cada tipo de unidade:  \n",
        "  - Simples: \\$50.000  \n",
        "  - Dupla: \\$70.000  \n",
        "  - Tripla: \\$130.000  \n",
        "  - Quádrupla: \\$160.000  \n",
        "\n",
        "* $fin\\_max$: valor máximo do financiamento disponível (\\$15.000.000).  \n"
      ],
      "metadata": {
        "id": "QAyGRwxc0j4V"
      }
    },
    {
      "cell_type": "code",
      "execution_count": 2,
      "metadata": {
        "id": "TQDusRbXyDO1"
      },
      "outputs": [],
      "source": [
        "max_demolidas = 300\n",
        "acre_por_casa_demolida = 0.25\n",
        "fracao_rua = 0.15\n",
        "custo_por_casa_demolida = 2000\n",
        "\n",
        "acre_lotes = [\n",
        "    0.18,\n",
        "    0.28,\n",
        "    0.4,\n",
        "    0.5\n",
        "]\n",
        "\n",
        "imposto_lotes = [\n",
        "    1000,\n",
        "    1900,\n",
        "    2700,\n",
        "    3400\n",
        "]\n",
        "\n",
        "custo_construcao = [\n",
        "    50000,\n",
        "    70000,\n",
        "    130000,\n",
        "    160000\n",
        "]\n",
        "\n",
        "fin_max = 15000000"
      ]
    },
    {
      "cell_type": "markdown",
      "source": [
        "## Declaração do objeto que representa o modelo matemático"
      ],
      "metadata": {
        "id": "XRQ-9Rsc3hLa"
      }
    },
    {
      "cell_type": "code",
      "source": [
        "modelo = pulp.LpProblem('Problema3_Construcao_Uniao_Paulista', pulp.LpMaximize)"
      ],
      "metadata": {
        "id": "pnoZMe813rsg"
      },
      "execution_count": 3,
      "outputs": []
    },
    {
      "cell_type": "markdown",
      "source": [
        "## Variáveis de decisão\n",
        "\n",
        "* $num\\_casas\\_demolidas \\ge 0$: número de casas a serem demolidas, inteiro, limitado por $max\\_demolidas$.  \n",
        "* $unidades[i] \\ge 0$: número de unidades residenciais do tipo $i$ a serem construídas, $i \\in \\{0,1,2,3\\}$, inteiro.  \n",
        "  * $i=0$: unidades simples  \n",
        "  * $i=1$: unidades duplas  \n",
        "  * $i=2$: unidades triplas  \n",
        "  * $i=3$: unidades quadruplas\n",
        "\n"
      ],
      "metadata": {
        "id": "uYDJlWup3rQR"
      }
    },
    {
      "cell_type": "code",
      "source": [
        "num_casas_demolidas = pulp.LpVariable(\"num_casas_demolidas\", lowBound=0, upBound=max_demolidas, cat='Integer')\n",
        "unidades = [pulp.LpVariable(f\"unidade_{i+1}\", lowBound=0, cat='Integer') for i in range(4)]"
      ],
      "metadata": {
        "id": "9gnbE-rb3zX4"
      },
      "execution_count": 4,
      "outputs": []
    },
    {
      "cell_type": "markdown",
      "source": [
        "## Função objetivo\n",
        "\n",
        "* Maximização da arrecadação com impostos:  $\\max \\sum_{i=0}^{3} unidades[i] \\cdot imposto\\_lotes[i]$"
      ],
      "metadata": {
        "id": "AY2Tz5NR6aoT"
      }
    },
    {
      "cell_type": "code",
      "source": [
        "modelo += pulp.lpSum([unidades[i] * imposto_lotes[i] for i in range(4)])"
      ],
      "metadata": {
        "id": "lygwOHR_7Uj5"
      },
      "execution_count": 5,
      "outputs": []
    },
    {
      "cell_type": "markdown",
      "source": [
        "## Restrições"
      ],
      "metadata": {
        "id": "aETXgQki7ahq"
      }
    },
    {
      "cell_type": "markdown",
      "source": [
        "* Restrição de área total disponível: $\\sum_{i=0}^{3} unidades[i] \\cdot acre\\_lotes[i] \\le num\\_casas\\_demolidas \\cdot acre\\_por\\_casa\\_demolida \\cdot (1 - fracao\\_rua)$."
      ],
      "metadata": {
        "id": "-Ym722MG7eas"
      }
    },
    {
      "cell_type": "code",
      "source": [
        "modelo += pulp.lpSum([unidades[i] * acre_lotes[i] for i in range(4)]) <= num_casas_demolidas * acre_por_casa_demolida * (1 - fracao_rua)"
      ],
      "metadata": {
        "id": "29jko-mz8Jpz"
      },
      "execution_count": 6,
      "outputs": []
    },
    {
      "cell_type": "markdown",
      "source": [
        "* Restrição de orçamento / financiamento máximo: $\\sum_{i=0}^{3} unidades[i] \\cdot custo\\_construcao[i] + num\\_casas\\_demolidas \\cdot custo\\_por\\_casa\\_demolida \\le fin\\_max$.  "
      ],
      "metadata": {
        "id": "YhSshHcn8VQ4"
      }
    },
    {
      "cell_type": "code",
      "source": [
        "modelo += pulp.lpSum([unidades[i] * custo_construcao[i] for i in range(4)]) + num_casas_demolidas * custo_por_casa_demolida <= fin_max"
      ],
      "metadata": {
        "id": "i9QGoEo28ph4"
      },
      "execution_count": 7,
      "outputs": []
    },
    {
      "cell_type": "markdown",
      "source": [
        "* Restrições de proporção das unidades:  \n",
        "  * $unidades[0] \\ge 0.2 \\cdot \\sum_{i=0}^{3} unidades[i]$ (simples)  \n",
        "  * $unidades[1] \\ge 0.1 \\cdot \\sum_{i=0}^{3} unidades[i]$ (duplas)  \n",
        "  * $unidades[2] + unidades[3] \\ge 0.25 \\cdot \\sum_{i=0}^{3} unidades[i]$ (triplas + quadruplas)  "
      ],
      "metadata": {
        "id": "VOFLumRx8V00"
      }
    },
    {
      "cell_type": "code",
      "source": [
        "un_totais = pulp.lpSum(unidades)\n",
        "modelo += unidades[0] >= 0.2 * un_totais\n",
        "modelo += unidades[1] >= 0.1 * un_totais\n",
        "modelo += (unidades[2] + unidades[3]) >= 0.25 * un_totais"
      ],
      "metadata": {
        "id": "YfIRyOGC8qPk"
      },
      "execution_count": 8,
      "outputs": []
    },
    {
      "cell_type": "markdown",
      "source": [
        "### Resolvendo o problema"
      ],
      "metadata": {
        "id": "U6SYUa7M8Whp"
      }
    },
    {
      "cell_type": "code",
      "source": [
        "status = modelo.solve()"
      ],
      "metadata": {
        "id": "ehNexPr48rSc"
      },
      "execution_count": 9,
      "outputs": []
    },
    {
      "cell_type": "markdown",
      "source": [
        "## Imprimindo as soluções do problema"
      ],
      "metadata": {
        "id": "8Z8THymj8Wyr"
      }
    },
    {
      "cell_type": "code",
      "source": [
        "print('Status: ', pulp.LpStatus[status])\n",
        "print('Função objetivo: $ {:,.2f}'.format(pulp.value(modelo.objective)))\n",
        "\n",
        "descricoes = [\"unidades simples\", \"unidades duplas\", \"unidades triplas\", \"unidades quadruplas\"]\n",
        "\n",
        "for desc, u in zip(descricoes, unidades):\n",
        "    print(f\"{desc} = {u.varValue}\")\n",
        "\n",
        "print(f\"{num_casas_demolidas.name} = {num_casas_demolidas.varValue}\")\n",
        "\n",
        "gasto_financiamento = pulp.value(pulp.lpSum([unidades[i].varValue * custo_construcao[i] for i in range(4)])) \\\n",
        "                      + num_casas_demolidas.varValue * custo_por_casa_demolida\n",
        "\n",
        "print(f\"Gasto total de financiamento: $ {gasto_financiamento:,.2f}\")\n"
      ],
      "metadata": {
        "colab": {
          "base_uri": "https://localhost:8080/"
        },
        "id": "YvQplO248r3M",
        "outputId": "b39c6b63-4063-4d99-d053-bda4af269607"
      },
      "execution_count": 14,
      "outputs": [
        {
          "output_type": "stream",
          "name": "stdout",
          "text": [
            "Status:  Optimal\n",
            "Função objetivo: $ 343,700.00\n",
            "unidades simples = 36.0\n",
            "unidades duplas = 98.0\n",
            "unidades triplas = 45.0\n",
            "unidades quadruplas = 0.0\n",
            "num_casas_demolidas = 245.0\n",
            "Gasto total de financiamento: $ 15,000,000.00\n"
          ]
        }
      ]
    }
  ]
}